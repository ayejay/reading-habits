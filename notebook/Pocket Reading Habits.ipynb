{
 "cells": [
  {
   "cell_type": "markdown",
   "metadata": {},
   "source": [
    "   # Introduction"
   ]
  },
  {
   "cell_type": "markdown",
   "metadata": {},
   "source": [
    "This notebook includes a pattern about my reading habits. <a href=\"https://getpocket.com\">Pocket</a> is a handy tool to keep track of all the nice articles you might miss because of an \"important\" meeting.\n",
    "\n",
    "I have used data provided by nice API provided by Pocket. I wanted to play more with the data at hand but it is better to start with simple things. In future, I might go to discover some more insights. Lets start with the basics for now."
   ]
  },
  {
   "cell_type": "code",
   "execution_count": 4,
   "metadata": {},
   "outputs": [],
   "source": [
    "import json\n",
    "import glob\n",
    "import pandas as pd\n",
    "import datetime\n",
    "import requests\n",
    "import matplotlib.pyplot as plt\n",
    "import numpy as np\n",
    "from wordcloud import WordCloud\n",
    "from urllib.parse import urlparse"
   ]
  },
  {
   "cell_type": "markdown",
   "metadata": {},
   "source": [
    "First, we need to get data from Pocket through its API.\n",
    "\n",
    "For that, we first need to create the <a href=\"https://getpocket.com/developer/apps/new\">consumer key</a>. Access token can then be generated using the API or   <a href=\"https://reader.fxneumann.de/plugins/oneclickpocket/auth.php\">fxneumann's OneClickPocket</a>."
   ]
  },
  {
   "cell_type": "code",
   "execution_count": 5,
   "metadata": {},
   "outputs": [],
   "source": [
    "consumer_key = \"\" # Consumer key required for Pocket API\n",
    "access_token = \"\" # Access Token required for Pocket API\n",
    "time_added_limit = 1483228800 # Since when do you want to fetch the data, default 1 Jan 2017"
   ]
  },
  {
   "cell_type": "code",
   "execution_count": 6,
   "metadata": {},
   "outputs": [
    {
     "ename": "ValueError",
     "evalue": "Please generate Consumer Key and Access Token.",
     "output_type": "error",
     "traceback": [
      "\u001b[0;31m---------------------------------------------------------------------------\u001b[0m",
      "\u001b[0;31mValueError\u001b[0m                                Traceback (most recent call last)",
      "\u001b[0;32m<ipython-input-6-a63675820804>\u001b[0m in \u001b[0;36m<module>\u001b[0;34m()\u001b[0m\n\u001b[1;32m      1\u001b[0m \u001b[0;32mif\u001b[0m \u001b[0mconsumer_key\u001b[0m \u001b[0;34m==\u001b[0m \u001b[0;34m\"\"\u001b[0m \u001b[0;32mor\u001b[0m \u001b[0maccess_token\u001b[0m \u001b[0;34m==\u001b[0m \u001b[0;34m\"\"\u001b[0m\u001b[0;34m:\u001b[0m\u001b[0;34m\u001b[0m\u001b[0m\n\u001b[0;32m----> 2\u001b[0;31m     \u001b[0;32mraise\u001b[0m \u001b[0mValueError\u001b[0m\u001b[0;34m(\u001b[0m\u001b[0;34m\"Please generate Consumer Key and Access Token.\"\u001b[0m\u001b[0;34m)\u001b[0m\u001b[0;34m\u001b[0m\u001b[0m\n\u001b[0m",
      "\u001b[0;31mValueError\u001b[0m: Please generate Consumer Key and Access Token."
     ]
    }
   ],
   "source": [
    "if consumer_key == \"\" or access_token == \"\":\n",
    "    raise ValueError(\"Please generate Consumer Key and Access Token.\")"
   ]
  },
  {
   "cell_type": "markdown",
   "metadata": {},
   "source": [
    "It is a good practice to limit the number of API requests/data you are fetching. So, specifying a reasonable time limit is appreciated. Now, time to fetch the numbers."
   ]
  },
  {
   "cell_type": "code",
   "execution_count": null,
   "metadata": {},
   "outputs": [],
   "source": [
    "data_points = {\n",
    "  \"item_id\" : \"int64\",\n",
    "  \"resolved_title\" : \"object\",\n",
    "  \"resolved_url\" : \"object\",\n",
    "  \"time_added\" : \"int64\",\n",
    "  \"time_read\": \"int64\",\n",
    "  \"excerpt\" : \"object\",\n",
    "  \"word_count\" : \"int32\",\n",
    "  \"is_article\": \"int32\",\n",
    "  \"status\" : \"int32\"\n",
    "}\n",
    "\n",
    "rawReq = {\n",
    "  \"consumer_key\" : consumer_key,\n",
    "  \"access_token\" : access_token,\n",
    "  \"sort\" : \"newest\",\n",
    "  \"state\" : \"all\",\n",
    "  \"detailType\" : \"complete\"\n",
    "}\n",
    "\n",
    "url = \"https://getpocket.com/v3/get\"\n",
    "headers = {\"Content-Type\": \"application/json\"}\n",
    "counter = 0\n",
    "items_per_request = 500\n",
    "df = pd.DataFrame([])\n",
    "\n",
    "while True:\n",
    "    req = rawReq.copy()\n",
    "    req.update({\"offset\": counter*items_per_request, \"count\": items_per_request})\n",
    "    r = requests.post(url, data=json.dumps(req), headers=headers)\n",
    "    rjson = r.json()\n",
    "    all_items_found = False  \n",
    "    if (len(rjson['list']) == 0):\n",
    "        break\n",
    "  \n",
    "    for item in rjson[\"list\"].values():\n",
    "        if (int(item[\"time_added\"]) < time_added_limit):\n",
    "            all_items_found = True\n",
    "            \n",
    "        try:\n",
    "            data_arr = pd.DataFrame([[item[x] for x in data_points.keys()]])\n",
    "        except KeyError:\n",
    "            continue #Ignoring ill-formed data\n",
    "        df = df.append(data_arr)\n",
    "        \n",
    "    if all_items_found:\n",
    "        break\n",
    "    counter += 1\n",
    "  \n",
    "df.columns = data_points.keys()\n",
    "for col in df:\n",
    "    df[col] = df[col].astype(data_points.get(col))"
   ]
  },
  {
   "cell_type": "markdown",
   "metadata": {},
   "source": [
    "First, I would like to see what websites do I visit most when reading the saved arcticles."
   ]
  },
  {
   "cell_type": "code",
   "execution_count": null,
   "metadata": {},
   "outputs": [],
   "source": [
    "number_of_top_websites = 10\n",
    "\n",
    "# Different subdomains are considered as different entities for the sake of simplicity\n",
    "group_by_domain = df[\"resolved_url\"].apply(lambda x:urlparse(x).netloc)\n",
    "top_domains = group_by_domain.value_counts().head(number_of_top_websites)\n",
    "\n",
    "_, ax = plt.subplots(figsize=(12, 10))\n",
    "y_pos = np.arange(10, 0, -1)\n",
    "ax.set_yticks(y_pos)\n",
    "ax.set_yticklabels(top_domains.index.values)\n",
    "ax.barh(y_pos, top_domains, color=\"green\")\n",
    "ax.set_title(\"Top Websites for reading\")\n",
    "ax.spines['right'].set_visible(False)\n",
    "ax.spines['top'].set_visible(False)\n",
    "\n",
    "plt.show()"
   ]
  },
  {
   "cell_type": "markdown",
   "metadata": {
    "collapsed": true
   },
   "source": [
    "No surprises there.\n",
    "\n",
    "Next, I want to know at what time of week I am most active saving/reading the articles to Pocket. Lets build a cool heatmap to find that out."
   ]
  },
  {
   "cell_type": "code",
   "execution_count": null,
   "metadata": {},
   "outputs": [],
   "source": [
    "def get_day_and_hour(ts):\n",
    "    dt = datetime.datetime.fromtimestamp(ts)\n",
    "    return (dt.date().weekday(), dt.hour)\n",
    "\n",
    "def get_weekday_hour_heatmap_data(ts_series):\n",
    "    dfa = ts_series.apply(lambda x : pd.Series(get_day_and_hour(x), index=[\"a\", \"b\"]))  \n",
    "    dfg = dfa.groupby([\"a\", \"b\"]).size().reset_index(name='count')\n",
    "    days_hmp = np.zeros((7, 24))\n",
    "    for i in range(7):\n",
    "        for j in range(24):\n",
    "            if len(dfg[(dfg[\"a\"] == i) & (dfg[\"b\"] == j)]) > 0:\n",
    "                days_hmp[i, j] = dfg[(dfg[\"a\"] == i) & (dfg[\"b\"] == j)][\"count\"].values[0]\n",
    "    \n",
    "    return days_hmp\n",
    "\n",
    "def plot_weekday_hour_heatmap(days_hmp, ax, vmin, vmax, title):\n",
    "    ax.matshow(days_hmp, cmap='summer', vmin=vmin, vmax=vmax)\n",
    "\n",
    "    ax.set_xticks(np.arange(0, 24, 1))\n",
    "    ax.set_yticks(np.arange(0, 7, 1))\n",
    "\n",
    "    ax.set_yticklabels([\"M\", \"T\", \"W\", \"T\", \"F\", \"S\", \"S\"])\n",
    "    ax.set_xticklabels(np.arange(0, 24, 1))\n",
    "\n",
    "    ax.set_xticks(np.arange(-.5, 23, 1), minor=True)\n",
    "    ax.set_yticks(np.arange(-.5, 6, 1), minor=True)\n",
    "    ax.set_title(title)\n",
    "    ax.grid(which=\"minor\", linestyle=\"-\", color='black', linewidth=1)\n",
    "\n",
    "   \n",
    "fig, [ax1, ax2] = plt.subplots(nrows=2, figsize=(14, 10))\n",
    "plot_weekday_hour_heatmap(get_weekday_hour_heatmap_data(df[\"time_added\"]), ax1, 10, 200, \"Add\")\n",
    "plot_weekday_hour_heatmap(get_weekday_hour_heatmap_data(df[df[\"status\"]!=0][\"time_read\"]), ax2, 0, 150, \"Read\")\n",
    "plt.tight_layout()\n",
    "plt.show()"
   ]
  },
  {
   "cell_type": "markdown",
   "metadata": {},
   "source": [
    "No surprises again!! I usually save articles when travelling to the office during the weekdays. As for reading the saved articles, there is no general pattern as reading is spread across the week.\n",
    "\n",
    "Lets go for the number of words that I might have read in the given time period."
   ]
  },
  {
   "cell_type": "code",
   "execution_count": null,
   "metadata": {},
   "outputs": [],
   "source": [
    "df[df[\"status\"] != 0][\"word_count\"].sum()"
   ]
  },
  {
   "cell_type": "markdown",
   "metadata": {},
   "source": [
    "What about the number of articles (excluding the videos and other stuff)."
   ]
  },
  {
   "cell_type": "code",
   "execution_count": null,
   "metadata": {},
   "outputs": [],
   "source": [
    "len(df[(df[\"status\"] != 0) & (df[\"is_article\"] == 1)])"
   ]
  },
  {
   "cell_type": "markdown",
   "metadata": {},
   "source": [
    "Oh!! Lets end this thing with a nice word cloud. I should get a printed T-Shirt with this cool word cloud."
   ]
  },
  {
   "cell_type": "code",
   "execution_count": null,
   "metadata": {},
   "outputs": [],
   "source": [
    "read_wordcloud = WordCloud(\n",
    "    max_font_size=50, \\\n",
    "    background_color='white', \n",
    "    width=800, \\\n",
    "    height=400).generate(df[df[\"status\"] != 0][\"excerpt\"].sum())\n",
    "\n",
    "_, ax = plt.subplots(figsize=(12, 10))\n",
    "ax.imshow(read_wordcloud, interpolation=\"bilinear\")\n",
    "plt.axis(\"off\")\n",
    "plt.tight_layout()\n",
    "plt.show()"
   ]
  }
 ],
 "metadata": {
  "kernelspec": {
   "display_name": "Python 3",
   "language": "python",
   "name": "python3"
  },
  "language_info": {
   "codemirror_mode": {
    "name": "ipython",
    "version": 3
   },
   "file_extension": ".py",
   "mimetype": "text/x-python",
   "name": "python",
   "nbconvert_exporter": "python",
   "pygments_lexer": "ipython3",
   "version": "3.4.3"
  }
 },
 "nbformat": 4,
 "nbformat_minor": 2
}
